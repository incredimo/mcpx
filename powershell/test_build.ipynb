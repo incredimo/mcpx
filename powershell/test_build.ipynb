{
  "cells": [
    {
      "cell_type": "code",
      "metadata": {},
      "source": [
        "import subprocess\n",
        "import os\n",
        "\n",
        "os.chdir(\"C:/repo/mcpx/powershell\")\n",
        "result = subprocess.run([\"cargo\", \"build\"], capture_output=True, text=True)\n",
        "print(result.stdout)\n",
        "print(result.stderr)\n"
      ],
      "execution_count": 1,
      "outputs": [
        {
          "name": "stdout",
          "output_type": "stream",
          "text": "\r\n    Updating crates.io index\r\n     Locking 116 packages to latest compatible versions\r\n      Adding dashmap v5.5.3 (available: v6.1.0)\r\n      Adding env_logger v0.10.2 (available: v0.11.8)\r\n      Adding thiserror v1.0.69 (available: v2.0.12)\r\n   Compiling proc-macro2 v1.0.95\r\n   Compiling unicode-ident v1.0.18\r\n   Compiling autocfg v1.4.0\r\n   Compiling windows_x86_64_msvc v0.52.6\r\n   Compiling memchr v2.7.4\r\n   Compiling cfg-if v1.0.0\r\n   Compiling parking_lot_core v0.9.10\r\n   Compiling pin-project-lite v0.2.16\r\n   Compiling smallvec v1.15.0\r\n   Compiling futures-core v0.3.31\r\n   Compiling scopeguard v1.2.0\r\n   Compiling serde v1.0.219\r\n   Compiling futures-sink v0.3.31\r\n   Compiling serde_json v1.0.140\r\n   Compiling futures-task v0.3.31\r\n   Compiling once_cell v1.21.3\r\n   Compiling pin-utils v0.1.0\r\n   Compiling futures-io v0.3.31\r\n   Compiling paste v1.0.15\r\n   Compiling ryu v1.0.20\r\n   Compiling regex-syntax v0.8.5\r\n   Compiling futures-channel v0.3.31\r\n   Compiling schemars v0.8.22\r\n   Compiling thiserror v2.0.12\r\n   Compiling bytes v1.10.1\r\n   Compiling getrandom v0.3.2\r\n   Compiling itoa v1.0.15\r\n   Compiling tracing-core v0.1.33\r\n   Compiling dyn-clone v1.0.19\r\n   Compiling anyhow v1.0.98\r\n   Compiling thiserror v1.0.69\r\n   Compiling windows-link v0.1.1\r\n   Compiling log v0.4.27\r\n   Compiling windows-targets v0.52.6\r\n   Compiling base64 v0.21.7\r\n   Compiling hashbrown v0.14.5\r\n   Compiling humantime v2.2.0\r\n   Compiling aho-corasick v1.1.3\r\n   Compiling windows-sys v0.52.0\r\n   Compiling lock_api v0.4.12\r\n   Compiling slab v0.4.9\r\n   Compiling num-traits v0.2.19\r\n   Compiling windows-sys v0.59.0\r\n   Compiling uuid v1.16.0\r\n   Compiling quote v1.0.40\r\n   Compiling syn v2.0.100\r\n   Compiling parking_lot v0.12.3\r\n   Compiling dashmap v5.5.3\r\n   Compiling winapi-util v0.1.9\r\n   Compiling is-terminal v0.4.16\r\n   Compiling regex-automata v0.4.9\r\n   Compiling termcolor v1.4.1\r\n   Compiling mio v1.0.3\r\n   Compiling socket2 v0.5.9\r\n   Compiling regex v1.11.1\r\n   Compiling env_logger v0.10.2\r\n   Compiling serde_derive_internals v0.29.1\r\n   Compiling serde_derive v1.0.219\r\n   Compiling futures-macro v0.3.31\r\n   Compiling tokio-macros v2.5.0\r\n   Compiling tracing-attributes v0.1.28\r\n   Compiling thiserror-impl v2.0.12\r\n   Compiling thiserror-impl v1.0.69\r\n   Compiling rmcp-macros v0.1.5\r\n   Compiling schemars_derive v0.8.22\r\n   Compiling tokio v1.44.2\r\n   Compiling futures-util v0.3.31\r\n   Compiling tracing v0.1.41\r\n   Compiling futures-executor v0.3.31\r\n   Compiling futures v0.3.31\r\n   Compiling tokio-util v0.7.14\r\n   Compiling chrono v0.4.40\r\n   Compiling rmcp v0.1.5\r\n   Compiling mcpx-powershell v0.1.0 (C:\\repo\\mcpx\\powershell)\r\nwarning: unused import: `error`\r\n --> src\\main.rs:2:11\r\n  |\r\n2 | use log::{error, info};\r\n  |           ^^^^^\r\n  |\r\n  = note: `#[warn(unused_imports)]` on by default\r\n\r\nwarning: unused import: `tokio::sync::Mutex`\r\n --> src\\powershell.rs:5:5\r\n  |\r\n5 | use tokio::sync::Mutex;\r\n  |     ^^^^^^^^^^^^^^^^^^\r\n\r\nwarning: unused imports: `Duration` and `timeout`\r\n --> src\\tools\\process.rs:9:19\r\n  |\r\n9 | use tokio::time::{Duration, timeout};\r\n  |                   ^^^^^^^^  ^^^^^^^\r\n\r\nwarning: unused variable: `process_id_clone`\r\n  --> src\\tools\\process.rs:94:9\r\n   |\r\n94 |     let process_id_clone = process_id.clone();\r\n   |         ^^^^^^^^^^^^^^^^ help: if this is intentional, prefix it with an underscore: `_process_id_clone`\r\n   |\r\n   = note: `#[warn(unused_variables)]` on by default\r\n\r\nwarning: unused variable: `running_processes`\r\n  --> src\\tools\\process.rs:95:9\r\n   |\r\n95 |     let running_processes = service.running_processes.clone();\r\n   |         ^^^^^^^^^^^^^^^^^ help: if this is intentional, prefix it with an underscore: `_running_processes`\r\n\r\nwarning: unused variable: `process_id_clone2`\r\n   --> src\\tools\\process.rs:118:9\r\n    |\r\n118 |     let process_id_clone2 = process_id.clone();\r\n    |         ^^^^^^^^^^^^^^^^^ help: if this is intentional, prefix it with an underscore: `_process_id_clone2`\r\n\r\nwarning: unused variable: `running_processes_clone`\r\n   --> src\\tools\\process.rs:119:9\r\n    |\r\n119 |     let running_processes_clone = service.running_processes.clone();\r\n    |         ^^^^^^^^^^^^^^^^^^^^^^^ help: if this is intentional, prefix it with an underscore: `_running_processes_clone`\r\n\r\nerror[E0277]: `PowerShellProcess` doesn't implement `std::fmt::Debug`\r\n  --> src\\powershell.rs:15:5\r\n   |\r\n11 | #[derive(Debug, Clone)]\r\n   |          ----- in this derive macro expansion\r\n...\r\n15 |     pub running_processes: Arc<DashMap<String, tools::process::PowerShellProcess>>,\r\n   |     ^^^^^^^^^^^^^^^^^^^^^^^^^^^^^^^^^^^^^^^^^^^^^^^^^^^^^^^^^^^^^^^^^^^^^^^^^^^^^^ `PowerShellProcess` cannot be formatted using `{:?}`\r\n   |\r\n   = help: the trait `std::fmt::Debug` is not implemented for `PowerShellProcess`\r\n   = note: add `#[derive(Debug)]` to `PowerShellProcess` or manually `impl std::fmt::Debug for PowerShellProcess`\r\n   = help: the trait `std::fmt::Debug` is implemented for `Arc<T, A>`\r\n   = note: this error originates in the derive macro `Debug` (in Nightly builds, run with -Z macro-backtrace for more info)\r\nhelp: consider annotating `PowerShellProcess` with `#[derive(Debug)]`\r\n  --> src\\tools\\process.rs:34:1\r\n   |\r\n34 + #[derive(Debug)]\r\n35 | pub struct PowerShellProcess {\r\n   |\r\n\r\nFor more information about this error, try `rustc --explain E0277`.\r\nwarning: `mcpx-powershell` (bin \"mcpx-powershell\") generated 7 warnings\r\nerror: could not compile `mcpx-powershell` (bin \"mcpx-powershell\") due to 1 previous error; 7 warnings emitted\r\n\r\n"
        }
      ]
    },
    {
      "cell_type": "code",
      "metadata": {},
      "source": [
        "import subprocess\n",
        "import os\n",
        "\n",
        "os.chdir(\"C:/repo/mcpx/powershell\")\n",
        "result = subprocess.run([\"cargo\", \"build\"], capture_output=True, text=True)\n",
        "print(result.stdout)\n",
        "print(result.stderr)\n"
      ],
      "execution_count": 1,
      "outputs": [
        {
          "name": "stdout",
          "output_type": "stream",
          "text": "\r\n   Compiling mcpx-powershell v0.1.0 (C:\\repo\\mcpx\\powershell)\r\n    Finished `dev` profile [unoptimized + debuginfo] target(s) in 3.53s\r\n\r\n"
        }
      ]
    },
    {
      "cell_type": "code",
      "metadata": {},
      "source": [
        "import subprocess\n",
        "import os\n",
        "\n",
        "os.chdir(\"C:/repo/mcpx/powershell\")\n",
        "result = subprocess.run([\"cargo\", \"install\", \"--path\", \".\"], capture_output=True, text=True)\n",
        "print(result.stdout)\n",
        "print(result.stderr)\n"
      ],
      "execution_count": 1,
      "outputs": [
        {
          "name": "stdout",
          "output_type": "stream",
          "text": "\r\n  Installing mcpx-powershell v0.1.0 (C:\\repo\\mcpx\\powershell)\r\n    Updating crates.io index\r\n     Locking 116 packages to latest compatible versions\r\n      Adding dashmap v5.5.3 (available: v6.1.0)\r\n      Adding env_logger v0.10.2 (available: v0.11.8)\r\n      Adding thiserror v1.0.69 (available: v2.0.12)\r\n   Compiling proc-macro2 v1.0.95\r\n   Compiling unicode-ident v1.0.18\r\n   Compiling autocfg v1.4.0\r\n   Compiling windows_x86_64_msvc v0.52.6\r\n   Compiling memchr v2.7.4\r\n   Compiling cfg-if v1.0.0\r\n   Compiling parking_lot_core v0.9.10\r\n   Compiling pin-project-lite v0.2.16\r\n   Compiling futures-sink v0.3.31\r\n   Compiling scopeguard v1.2.0\r\n   Compiling serde v1.0.219\r\n   Compiling smallvec v1.15.0\r\n   Compiling futures-core v0.3.31\r\n   Compiling serde_json v1.0.140\r\n   Compiling once_cell v1.21.3\r\n   Compiling pin-utils v0.1.0\r\n   Compiling futures-io v0.3.31\r\n   Compiling futures-task v0.3.31\r\n   Compiling itoa v1.0.15\r\n   Compiling thiserror v2.0.12\r\n   Compiling bytes v1.10.1\r\n   Compiling futures-channel v0.3.31\r\n   Compiling ryu v1.0.20\r\n   Compiling regex-syntax v0.8.5\r\n   Compiling paste v1.0.15\r\n   Compiling schemars v0.8.22\r\n   Compiling getrandom v0.3.2\r\n   Compiling windows-link v0.1.1\r\n   Compiling tracing-core v0.1.33\r\n   Compiling anyhow v1.0.98\r\n   Compiling dyn-clone v1.0.19\r\n   Compiling thiserror v1.0.69\r\n   Compiling log v0.4.27\r\n   Compiling humantime v2.2.0\r\n   Compiling hashbrown v0.14.5\r\n   Compiling base64 v0.21.7\r\n   Compiling lock_api v0.4.12\r\n   Compiling slab v0.4.9\r\n   Compiling num-traits v0.2.19\r\n   Compiling aho-corasick v1.1.3\r\n   Compiling windows-targets v0.52.6\r\n   Compiling windows-sys v0.52.0\r\n   Compiling windows-sys v0.59.0\r\n   Compiling uuid v1.16.0\r\n   Compiling quote v1.0.40\r\n   Compiling syn v2.0.100\r\n   Compiling parking_lot v0.12.3\r\n   Compiling dashmap v5.5.3\r\n   Compiling winapi-util v0.1.9\r\n   Compiling is-terminal v0.4.16\r\n   Compiling regex-automata v0.4.9\r\n   Compiling termcolor v1.4.1\r\n   Compiling socket2 v0.5.9\r\n   Compiling mio v1.0.3\r\n   Compiling regex v1.11.1\r\n   Compiling serde_derive_internals v0.29.1\r\n   Compiling env_logger v0.10.2\r\n   Compiling serde_derive v1.0.219\r\n   Compiling futures-macro v0.3.31\r\n   Compiling tokio-macros v2.5.0\r\n   Compiling thiserror-impl v2.0.12\r\n   Compiling tracing-attributes v0.1.28\r\n   Compiling rmcp-macros v0.1.5\r\n   Compiling thiserror-impl v1.0.69\r\n   Compiling schemars_derive v0.8.22\r\n   Compiling tokio v1.44.2\r\n   Compiling futures-util v0.3.31\r\n   Compiling tracing v0.1.41\r\n   Compiling futures-executor v0.3.31\r\n   Compiling futures v0.3.31\r\n   Compiling chrono v0.4.40\r\n   Compiling tokio-util v0.7.14\r\n   Compiling rmcp v0.1.5\r\n   Compiling mcpx-powershell v0.1.0 (C:\\repo\\mcpx\\powershell)\r\n    Finished `release` profile [optimized] target(s) in 27.78s\r\n  Installing C:\\Users\\nobody\\.cargo\\bin\\mcpx-powershell.exe\r\n   Installed package `mcpx-powershell v0.1.0 (C:\\repo\\mcpx\\powershell)` (executable `mcpx-powershell.exe`)\r\n\r\n"
        }
      ]
    }
  ],
  "metadata": {
    "kernelspec": {
      "display_name": "Python 3",
      "language": "python",
      "name": "python3"
    },
    "language_info": {
      "codemirror_mode": {
        "name": "ipython",
        "version": 3
      },
      "file_extension": ".py",
      "mimetype": "text/x-python",
      "name": "python",
      "nbconvert_exporter": "python",
      "pygments_lexer": "ipython3",
      "version": "3.8.0"
    }
  },
  "nbformat": 4,
  "nbformat_minor": 5
}